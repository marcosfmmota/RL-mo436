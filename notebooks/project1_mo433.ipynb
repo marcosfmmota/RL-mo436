{
  "nbformat": 4,
  "nbformat_minor": 0,
  "metadata": {
    "colab": {
      "name": "project1-mo433.ipynb",
      "provenance": [],
      "authorship_tag": "ABX9TyNDQginJsc78f91RvJCM27f",
      "include_colab_link": true
    },
    "kernelspec": {
      "name": "python3",
      "display_name": "Python 3"
    }
  },
  "cells": [
    {
      "cell_type": "markdown",
      "metadata": {
        "id": "view-in-github",
        "colab_type": "text"
      },
      "source": [
        "<a href=\"https://colab.research.google.com/github/marcosfmmota/MO433-Project1/blob/main/notebooks/project1_mo433.ipynb\" target=\"_parent\"><img src=\"https://colab.research.google.com/assets/colab-badge.svg\" alt=\"Open In Colab\"/></a>"
      ]
    },
    {
      "cell_type": "markdown",
      "metadata": {
        "id": "bL2sTDwBv4Kq"
      },
      "source": [
        "# Project 1 - Reinforcement Learning - MO433\n"
      ]
    },
    {
      "cell_type": "code",
      "metadata": {
        "colab": {
          "base_uri": "https://localhost:8080/"
        },
        "id": "l2wKk15DvVon",
        "outputId": "e56cd56e-5049-47e2-f16e-48009ceda13d"
      },
      "source": [
        "%pip install textworld"
      ],
      "execution_count": 1,
      "outputs": [
        {
          "output_type": "stream",
          "text": [
            "Collecting textworld\n",
            "\u001b[?25l  Downloading https://files.pythonhosted.org/packages/8f/35/16b5f8c83e637627ceddf499e4adf37a6ab9256cbac588d031255df1e47d/textworld-1.4.0-cp36-cp36m-manylinux1_x86_64.whl (6.7MB)\n",
            "\u001b[K     |████████████████████████████████| 6.7MB 9.0MB/s \n",
            "\u001b[?25hRequirement already satisfied: networkx>=2 in /usr/local/lib/python3.6/dist-packages (from textworld) (2.5)\n",
            "Requirement already satisfied: prompt-toolkit in /usr/local/lib/python3.6/dist-packages (from textworld) (1.0.18)\n",
            "Collecting hashids>=1.2.0\n",
            "  Downloading https://files.pythonhosted.org/packages/6e/46/ffdf25b1f6dbb1ce588ccb818e983df9e3d30594679f5a08c865a59cead7/hashids-1.3.1-py2.py3-none-any.whl\n",
            "Collecting mementos>=1.3.1\n",
            "  Downloading https://files.pythonhosted.org/packages/32/9f/44d24c854245214c1ace565aa8269b64d4ab189f4eb9783a2ac00c98072c/mementos-1.3.1-py2.py3-none-any.whl\n",
            "Requirement already satisfied: gym>=0.10.11 in /usr/local/lib/python3.6/dist-packages (from textworld) (0.17.3)\n",
            "Requirement already satisfied: more-itertools in /usr/local/lib/python3.6/dist-packages (from textworld) (8.6.0)\n",
            "Requirement already satisfied: cffi>=1.0.0 in /usr/local/lib/python3.6/dist-packages (from textworld) (1.14.4)\n",
            "Requirement already satisfied: tqdm>=4.17.1 in /usr/local/lib/python3.6/dist-packages (from textworld) (4.41.1)\n",
            "Collecting tatsu>=4.3.0\n",
            "\u001b[?25l  Downloading https://files.pythonhosted.org/packages/1b/36/00664e684e4bba5730db661847447bbcfe789008a154755013e5f457b648/TatSu-4.4.0-py2.py3-none-any.whl (85kB)\n",
            "\u001b[K     |████████████████████████████████| 92kB 9.7MB/s \n",
            "\u001b[?25hRequirement already satisfied: numpy>=1.14.5 in /usr/local/lib/python3.6/dist-packages (from textworld) (1.18.5)\n",
            "Collecting jericho>=3.0.3\n",
            "\u001b[?25l  Downloading https://files.pythonhosted.org/packages/38/c6/709467c51a6be25bd77abfb64f1d7d0ed9c8bd36f0da621385d2cd4833a1/jericho-3.0.4.tar.gz (1.2MB)\n",
            "\u001b[K     |████████████████████████████████| 1.2MB 39.1MB/s \n",
            "\u001b[?25hRequirement already satisfied: decorator>=4.3.0 in /usr/local/lib/python3.6/dist-packages (from networkx>=2->textworld) (4.4.2)\n",
            "Requirement already satisfied: six>=1.9.0 in /usr/local/lib/python3.6/dist-packages (from prompt-toolkit->textworld) (1.15.0)\n",
            "Requirement already satisfied: wcwidth in /usr/local/lib/python3.6/dist-packages (from prompt-toolkit->textworld) (0.2.5)\n",
            "Requirement already satisfied: pyglet<=1.5.0,>=1.4.0 in /usr/local/lib/python3.6/dist-packages (from gym>=0.10.11->textworld) (1.5.0)\n",
            "Requirement already satisfied: scipy in /usr/local/lib/python3.6/dist-packages (from gym>=0.10.11->textworld) (1.4.1)\n",
            "Requirement already satisfied: cloudpickle<1.7.0,>=1.2.0 in /usr/local/lib/python3.6/dist-packages (from gym>=0.10.11->textworld) (1.3.0)\n",
            "Requirement already satisfied: pycparser in /usr/local/lib/python3.6/dist-packages (from cffi>=1.0.0->textworld) (2.20)\n",
            "Requirement already satisfied: spacy>=2.1.0 in /usr/local/lib/python3.6/dist-packages (from jericho>=3.0.3->textworld) (2.2.4)\n",
            "Requirement already satisfied: future in /usr/local/lib/python3.6/dist-packages (from pyglet<=1.5.0,>=1.4.0->gym>=0.10.11->textworld) (0.16.0)\n",
            "Requirement already satisfied: murmurhash<1.1.0,>=0.28.0 in /usr/local/lib/python3.6/dist-packages (from spacy>=2.1.0->jericho>=3.0.3->textworld) (1.0.5)\n",
            "Requirement already satisfied: wasabi<1.1.0,>=0.4.0 in /usr/local/lib/python3.6/dist-packages (from spacy>=2.1.0->jericho>=3.0.3->textworld) (0.8.0)\n",
            "Requirement already satisfied: catalogue<1.1.0,>=0.0.7 in /usr/local/lib/python3.6/dist-packages (from spacy>=2.1.0->jericho>=3.0.3->textworld) (1.0.0)\n",
            "Requirement already satisfied: preshed<3.1.0,>=3.0.2 in /usr/local/lib/python3.6/dist-packages (from spacy>=2.1.0->jericho>=3.0.3->textworld) (3.0.5)\n",
            "Requirement already satisfied: setuptools in /usr/local/lib/python3.6/dist-packages (from spacy>=2.1.0->jericho>=3.0.3->textworld) (50.3.2)\n",
            "Requirement already satisfied: requests<3.0.0,>=2.13.0 in /usr/local/lib/python3.6/dist-packages (from spacy>=2.1.0->jericho>=3.0.3->textworld) (2.23.0)\n",
            "Requirement already satisfied: blis<0.5.0,>=0.4.0 in /usr/local/lib/python3.6/dist-packages (from spacy>=2.1.0->jericho>=3.0.3->textworld) (0.4.1)\n",
            "Requirement already satisfied: srsly<1.1.0,>=1.0.2 in /usr/local/lib/python3.6/dist-packages (from spacy>=2.1.0->jericho>=3.0.3->textworld) (1.0.5)\n",
            "Requirement already satisfied: plac<1.2.0,>=0.9.6 in /usr/local/lib/python3.6/dist-packages (from spacy>=2.1.0->jericho>=3.0.3->textworld) (1.1.3)\n",
            "Requirement already satisfied: thinc==7.4.0 in /usr/local/lib/python3.6/dist-packages (from spacy>=2.1.0->jericho>=3.0.3->textworld) (7.4.0)\n",
            "Requirement already satisfied: cymem<2.1.0,>=2.0.2 in /usr/local/lib/python3.6/dist-packages (from spacy>=2.1.0->jericho>=3.0.3->textworld) (2.0.5)\n",
            "Requirement already satisfied: importlib-metadata>=0.20; python_version < \"3.8\" in /usr/local/lib/python3.6/dist-packages (from catalogue<1.1.0,>=0.0.7->spacy>=2.1.0->jericho>=3.0.3->textworld) (3.1.1)\n",
            "Requirement already satisfied: urllib3!=1.25.0,!=1.25.1,<1.26,>=1.21.1 in /usr/local/lib/python3.6/dist-packages (from requests<3.0.0,>=2.13.0->spacy>=2.1.0->jericho>=3.0.3->textworld) (1.24.3)\n",
            "Requirement already satisfied: idna<3,>=2.5 in /usr/local/lib/python3.6/dist-packages (from requests<3.0.0,>=2.13.0->spacy>=2.1.0->jericho>=3.0.3->textworld) (2.10)\n",
            "Requirement already satisfied: certifi>=2017.4.17 in /usr/local/lib/python3.6/dist-packages (from requests<3.0.0,>=2.13.0->spacy>=2.1.0->jericho>=3.0.3->textworld) (2020.12.5)\n",
            "Requirement already satisfied: chardet<4,>=3.0.2 in /usr/local/lib/python3.6/dist-packages (from requests<3.0.0,>=2.13.0->spacy>=2.1.0->jericho>=3.0.3->textworld) (3.0.4)\n",
            "Requirement already satisfied: zipp>=0.5 in /usr/local/lib/python3.6/dist-packages (from importlib-metadata>=0.20; python_version < \"3.8\"->catalogue<1.1.0,>=0.0.7->spacy>=2.1.0->jericho>=3.0.3->textworld) (3.4.0)\n",
            "Building wheels for collected packages: jericho\n",
            "  Building wheel for jericho (setup.py) ... \u001b[?25l\u001b[?25hdone\n",
            "  Created wheel for jericho: filename=jericho-3.0.4-cp36-none-any.whl size=324769 sha256=5bab101be3bf6dfa4dff7e4bb067ccfcd0f7dc4e08946a5f0d71db4f20b1babf\n",
            "  Stored in directory: /root/.cache/pip/wheels/22/06/a6/478dd90a36affd2b3b0e23070f3993021c4763a6220251a25a\n",
            "Successfully built jericho\n",
            "Installing collected packages: hashids, mementos, tatsu, jericho, textworld\n",
            "Successfully installed hashids-1.3.1 jericho-3.0.4 mementos-1.3.1 tatsu-4.4.0 textworld-1.4.0\n"
          ],
          "name": "stdout"
        }
      ]
    }
  ]
}